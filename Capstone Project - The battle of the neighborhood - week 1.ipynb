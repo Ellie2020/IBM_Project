{
 "cells": [
  {
   "cell_type": "markdown",
   "metadata": {
    "deletable": true,
    "editable": true
   },
   "source": [
    "# Capstone Project - The battle of the neighborhood - week 1"
   ]
  },
  {
   "cell_type": "markdown",
   "metadata": {
    "deletable": true,
    "editable": true
   },
   "source": [
    "#### 1.A description of the problem and a discussion of the background.\n",
    "The problem we want to solve with this data science project is to find good schools in safe boroughs in London. London comprises of 32 boroughs.  \n",
    "Finding a good school in a safe borough is an important task for many families with young children and teenagers. Many families decide to move borough when it comes to choose a school.  \n",
    "Although there is a lot of interest in finding good state schools in London, it is quite difficult to have a real grasp of the situation. Detailed reports on this topic are available but they are not easy to read, especially for people moving from countries with a different school system and/or from non-native English-speaking countries. The info and statistics available are not provided in a user-friendly manner and this can be quite frustrating for families moving to London.\n"
   ]
  },
  {
   "cell_type": "markdown",
   "metadata": {
    "deletable": true,
    "editable": true
   },
   "source": [
    "#### 2. A description of the data and how it will be used to solve the problem.\n",
    "This project uses open source data from London government authorities regarding youth crime and high-school General Certificate of Secondary Education (GCSE) achievements to find the best performing schools in the safest London boroughs.\n",
    "\n",
    "Each borough comprises of variuos neighborhoods. The neighboorhoods within a borough that meet the conditions (i.e. good schools and safety) will be explored using Foursquare API aiming to highlight the most common venues categories (e.g. restaurants, pharmacies, train stations etc.) in each neighborhood. The neighborhoods will be then clustered by similar characteristics (e.g. good transport links) using k-mean algorithm and Folium library to visualise the different clusters on the London borough map. This would give an insight on the quality of life in the relevant neighborhoods and thereby help families with their choices."
   ]
  },
  {
   "cell_type": "code",
   "execution_count": null,
   "metadata": {
    "collapsed": true,
    "deletable": true,
    "editable": true
   },
   "outputs": [],
   "source": []
  }
 ],
 "metadata": {
  "kernelspec": {
   "display_name": "Python 3",
   "language": "python",
   "name": "python3"
  },
  "language_info": {
   "codemirror_mode": {
    "name": "ipython",
    "version": 3
   },
   "file_extension": ".py",
   "mimetype": "text/x-python",
   "name": "python",
   "nbconvert_exporter": "python",
   "pygments_lexer": "ipython3",
   "version": "3.5.2"
  }
 },
 "nbformat": 4,
 "nbformat_minor": 2
}
